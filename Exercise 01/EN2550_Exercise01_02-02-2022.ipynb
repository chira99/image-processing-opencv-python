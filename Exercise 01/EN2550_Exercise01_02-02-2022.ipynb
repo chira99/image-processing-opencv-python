{
 "cells": [
  {
   "cell_type": "markdown",
   "metadata": {},
   "source": [
    "## Name: Chirantha Kurukulasuriya\n",
    "## Index Number: 190337X"
   ]
  },
  {
   "cell_type": "markdown",
   "metadata": {},
   "source": [
    "### Q1\n"
   ]
  },
  {
   "cell_type": "code",
   "execution_count": 1,
   "metadata": {},
   "outputs": [
    {
     "name": "stdout",
     "output_type": "stream",
     "text": [
      "1 :  1\n",
      "2 :  4\n",
      "3 :  9\n",
      "4 :  16\n",
      "5 :  25\n"
     ]
    }
   ],
   "source": [
    "for i in range(1, 6):\n",
    "    print(i, ': ', i**2)"
   ]
  },
  {
   "cell_type": "markdown",
   "metadata": {},
   "source": [
    "### Q2"
   ]
  },
  {
   "cell_type": "code",
   "execution_count": 2,
   "metadata": {},
   "outputs": [
    {
     "name": "stdout",
     "output_type": "stream",
     "text": [
      "1 :  1\n",
      "4 :  16\n"
     ]
    }
   ],
   "source": [
    "from sympy import isprime\n",
    "\n",
    "for i in range(1, 6):\n",
    "    if not isprime(i):\n",
    "        print(i, ': ', i**2)"
   ]
  },
  {
   "cell_type": "markdown",
   "metadata": {},
   "source": [
    "### Q3"
   ]
  },
  {
   "cell_type": "code",
   "execution_count": 3,
   "metadata": {},
   "outputs": [
    {
     "name": "stdout",
     "output_type": "stream",
     "text": [
      "1 :  1\n",
      "2 :  4\n",
      "3 :  9\n",
      "4 :  16\n",
      "5 :  25\n"
     ]
    }
   ],
   "source": [
    "A = [(i, i**2) for i in range(1,6)]\n",
    "for i in range(len(A)):\n",
    "    print(A[i][0], ': ', A[i][1])"
   ]
  },
  {
   "cell_type": "markdown",
   "metadata": {},
   "source": [
    "### Q4"
   ]
  },
  {
   "cell_type": "code",
   "execution_count": 4,
   "metadata": {},
   "outputs": [
    {
     "name": "stdout",
     "output_type": "stream",
     "text": [
      "1 :  1\n",
      "4 :  16\n"
     ]
    }
   ],
   "source": [
    "A = [(i, i**2) for i in range(1,6) if not isprime(i)]\n",
    "for i in range(len(A)):\n",
    "    print(A[i][0], ': ', A[i][1])"
   ]
  },
  {
   "cell_type": "markdown",
   "metadata": {},
   "source": [
    "### Q5"
   ]
  },
  {
   "cell_type": "code",
   "execution_count": 5,
   "metadata": {},
   "outputs": [],
   "source": [
    "import numpy as np"
   ]
  },
  {
   "cell_type": "markdown",
   "metadata": {},
   "source": [
    "**a) Matrix Multiplication**"
   ]
  },
  {
   "cell_type": "code",
   "execution_count": 6,
   "metadata": {},
   "outputs": [
    {
     "name": "stdout",
     "output_type": "stream",
     "text": [
      "[[ 9 12 15  9]\n",
      " [25 32 39 19]\n",
      " [41 52 63 29]]\n"
     ]
    }
   ],
   "source": [
    "A = np.array([[1, 2], [3, 4], [5, 6]])\n",
    "B = np.array([[7, 8, 9, 1], [1, 2, 3, 4]])\n",
    "C = A @ B\n",
    "print(C)"
   ]
  },
  {
   "cell_type": "markdown",
   "metadata": {},
   "source": [
    "**b) Element-wise multiplication**"
   ]
  },
  {
   "cell_type": "code",
   "execution_count": 7,
   "metadata": {},
   "outputs": [
    {
     "name": "stdout",
     "output_type": "stream",
     "text": [
      "[[ 3  4]\n",
      " [15 16]\n",
      " [15  6]]\n"
     ]
    }
   ],
   "source": [
    "A = np.array([[1, 2], [3, 4], [5, 6]])\n",
    "B = np.array([[3, 2], [5, 4], [3, 1]])\n",
    "C = A * B\n",
    "print(C)"
   ]
  },
  {
   "cell_type": "markdown",
   "metadata": {},
   "source": [
    "### Q6"
   ]
  },
  {
   "cell_type": "code",
   "execution_count": 8,
   "metadata": {},
   "outputs": [
    {
     "name": "stdout",
     "output_type": "stream",
     "text": [
      "A =\n",
      " [[ 7  0  5  7  7  0  4]\n",
      " [ 9  7  3  8  4  0  3]\n",
      " [ 8  4  8  4  6 10  1]\n",
      " [ 7  4  6  6  6  4  6]\n",
      " [ 0  8  3  2  8  9  3]]\n",
      "subarray of A =\n",
      " [[9 7]\n",
      " [8 4]\n",
      " [7 4]]\n",
      "Shape of the sub-array:  (3, 2)\n",
      "Size of the sub-array:  6\n"
     ]
    }
   ],
   "source": [
    "A = np.random.randint(11, size = (5, 7)) # 5 x 7 array\n",
    "subA = A[1:4, 0:2] # array consisting rows 2 to 4 (inclusive) and first two columns\n",
    "print('A =\\n', A)\n",
    "print('subarray of A =\\n', subA)\n",
    "print('Shape of the sub-array: ', subA.shape)\n",
    "print('Size of the sub-array: ', subA.size)"
   ]
  },
  {
   "cell_type": "markdown",
   "metadata": {},
   "source": [
    "### Q7"
   ]
  },
  {
   "cell_type": "markdown",
   "metadata": {},
   "source": [
    "**(i) An array and a scalar value are combined in an operation**"
   ]
  },
  {
   "cell_type": "code",
   "execution_count": 9,
   "metadata": {},
   "outputs": [
    {
     "name": "stdout",
     "output_type": "stream",
     "text": [
      "[2. 4. 6.]\n"
     ]
    }
   ],
   "source": [
    "a = np.array([1, 2, 3])\n",
    "b = 2.0\n",
    "print(a * b)"
   ]
  },
  {
   "cell_type": "code",
   "execution_count": 10,
   "metadata": {},
   "outputs": [
    {
     "name": "stdout",
     "output_type": "stream",
     "text": [
      "[[ 2.  4.  6.]\n",
      " [ 8. 10. 12.]]\n"
     ]
    }
   ],
   "source": [
    "a = np.array([[1, 2, 3], [4, 5, 6]])\n",
    "b = 2.0\n",
    "print(a * b)"
   ]
  },
  {
   "cell_type": "markdown",
   "metadata": {},
   "source": [
    "**(ii) A 2D array and a 1D array combined in an operation**"
   ]
  },
  {
   "cell_type": "code",
   "execution_count": 11,
   "metadata": {},
   "outputs": [
    {
     "name": "stdout",
     "output_type": "stream",
     "text": [
      "[[ 4  6]\n",
      " [ 6  8]\n",
      " [ 8 10]]\n"
     ]
    }
   ],
   "source": [
    "A = np.array([[1, 2], [3, 4], [5, 6]])\n",
    "B = np.array([3, 4])\n",
    "print(A + B)"
   ]
  },
  {
   "cell_type": "markdown",
   "metadata": {},
   "source": [
    "**(iii) A column vector and a row vector combined in an operation**\n",
    "\n"
   ]
  },
  {
   "cell_type": "code",
   "execution_count": 12,
   "metadata": {},
   "outputs": [
    {
     "name": "stdout",
     "output_type": "stream",
     "text": [
      "[[ 1  2  3]\n",
      " [ 2  4  6]\n",
      " [ 3  6  9]\n",
      " [ 4  8 12]]\n"
     ]
    }
   ],
   "source": [
    "# Outer product of 4x1 column vector A, with row vector B of shape (3,)\n",
    "# yields a 4x3 array(matrix).\n",
    "A_trans = np.array([1, 2, 3, 4], ndmin=2)\n",
    "A = A_trans.transpose()\n",
    "B = np.array([1, 2, 3])\n",
    "print(A * B)"
   ]
  },
  {
   "cell_type": "markdown",
   "metadata": {},
   "source": [
    "### Q8"
   ]
  },
  {
   "cell_type": "code",
   "execution_count": 13,
   "metadata": {},
   "outputs": [],
   "source": [
    "m, c = 2 , -4\n",
    "N = 10\n",
    "x = np.linspace(0, N-1, N).reshape (N, 1)\n",
    "sigma = 10\n",
    "y = m*x + c + np.random.normal(0, sigma, (N, 1))"
   ]
  },
  {
   "cell_type": "code",
   "execution_count": 14,
   "metadata": {},
   "outputs": [],
   "source": [
    "X = np.append(np.ones((N,1)), x, axis = 1)"
   ]
  },
  {
   "cell_type": "code",
   "execution_count": 15,
   "metadata": {},
   "outputs": [
    {
     "name": "stdout",
     "output_type": "stream",
     "text": [
      "[[-9.28389721]\n",
      " [ 3.41709837]]\n"
     ]
    }
   ],
   "source": [
    "from numpy import linalg\n",
    "print(linalg.inv(X.T @ X) @ X.T @ y)"
   ]
  },
  {
   "cell_type": "markdown",
   "metadata": {},
   "source": [
    "### Q10"
   ]
  },
  {
   "cell_type": "code",
   "execution_count": 22,
   "metadata": {},
   "outputs": [],
   "source": [
    "import cv2 as cv\n",
    "\n",
    "im = cv.imread(r'Images/gal_gaussian.png')\n",
    "assert im is not None\n",
    "\n",
    "im_gausblur = cv.GaussianBlur(im, ksize=(9,5), sigmaX = 0)\n",
    "\n",
    "cv.imshow('Image', im)\n",
    "cv.waitKey(0)\n",
    "\n",
    "cv.imshow('GausBlur_Image', im_gausblur)\n",
    "cv.waitKey(0)\n",
    "\n",
    "cv.destroyAllWindows()"
   ]
  },
  {
   "cell_type": "markdown",
   "metadata": {},
   "source": [
    "### Q11"
   ]
  },
  {
   "cell_type": "code",
   "execution_count": 17,
   "metadata": {},
   "outputs": [],
   "source": [
    "im = cv.imread(r'Images/gal_sandp.png')\n",
    "assert im is not None\n",
    "\n",
    "im_median = cv.medianBlur(im, 5)\n",
    "\n",
    "cv.imshow('Image', im)\n",
    "cv.waitKey(0)\n",
    "\n",
    "cv.imshow('Medianfilter_Image', im_median)\n",
    "cv.waitKey(0)\n",
    "\n",
    "cv.destroyAllWindows()"
   ]
  },
  {
   "cell_type": "markdown",
   "metadata": {},
   "source": [
    "### Q12"
   ]
  },
  {
   "cell_type": "code",
   "execution_count": 18,
   "metadata": {},
   "outputs": [
    {
     "data": {
      "image/png": "[encoded data removed]",
      "text/plain": [
       "<Figure size 432x288 with 1 Axes>"
      ]
     },
     "metadata": {
      "needs_background": "light"
     },
     "output_type": "display_data"
    }
   ],
   "source": [
    "import matplotlib.pyplot as plt\n",
    "%matplotlib inline\n",
    "\n",
    "im = np.zeros((40,60), dtype=np.uint8)\n",
    "im[0:im.shape[0]//2+1, im.shape[1]//2: ] = 125\n",
    "\n",
    "fig, ax = plt.subplots()\n",
    "ax.imshow(im, cmap='gray', vmin = 0, vmax= 255)\n",
    "plt.show()\n",
    "\n",
    "# cv.imshow('colourPatch', im)\n",
    "# cv.waitKey(0)\n",
    "# cv.destroyAllWindows()\n"
   ]
  },
  {
   "cell_type": "markdown",
   "metadata": {},
   "source": [
    "### Q13"
   ]
  },
  {
   "cell_type": "code",
   "execution_count": 19,
   "metadata": {},
   "outputs": [
    {
     "data": {
      "image/png": "[encoded data removed]",
      "text/plain": [
       "<Figure size 432x288 with 1 Axes>"
      ]
     },
     "metadata": {
      "needs_background": "light"
     },
     "output_type": "display_data"
    }
   ],
   "source": [
    "import matplotlib.pyplot as plt\n",
    "%matplotlib inline\n",
    "\n",
    "im = np.zeros((40,60,3), dtype=np.uint8)\n",
    "im[im.shape[0]//2:, 0:im.shape[1]//2 + 1] = int(255*0.85), int(255*0.09), int(255*0.52) #Barbie pink - RGB values \n",
    "\n",
    "fig, ax = plt.subplots()\n",
    "ax.imshow(im, vmin = 0, vmax= 255)\n",
    "plt.show()\n",
    "\n",
    "# cv.imshow('BarbiePink', im)\n",
    "# cv.waitKey(0)\n",
    "# cv.destroyAllWindows()"
   ]
  },
  {
   "cell_type": "markdown",
   "metadata": {},
   "source": [
    "### Q14"
   ]
  },
  {
   "cell_type": "code",
   "execution_count": 11,
   "metadata": {},
   "outputs": [],
   "source": [
    "def inc_brightness(im, value=25):\n",
    "    hsv = cv.cvtColor(im, cv.COLOR_BGR2HSV)\n",
    "    h, s, v = cv.split(hsv)\n",
    "\n",
    "    # v[v > 255 - value] = 255\n",
    "    # v[v <= 255 - value] += value\n",
    "    v = cv.add(v, value)\n",
    "\n",
    "    hsv_adjusted = cv.merge((h, s, v))\n",
    "    im = cv.cvtColor(hsv_adjusted, cv.COLOR_HSV2BGR)\n",
    "    return im"
   ]
  },
  {
   "cell_type": "code",
   "execution_count": 13,
   "metadata": {},
   "outputs": [],
   "source": [
    "import cv2 as cv\n",
    "im = cv.imread(r'Images/tom_dark.jpg')\n",
    "\n",
    "im = inc_brightness(im, 80)\n",
    "cv.imshow('Mr.Tom Cruise', im)\n",
    "\n",
    "cv.waitKey(0)\n",
    "cv.destroyAllWindows()\n"
   ]
  },
  {
   "cell_type": "code",
   "execution_count": null,
   "metadata": {},
   "outputs": [],
   "source": []
  }
 ],
 "metadata": {
  "interpreter": {
   "hash": "cba790f90a5c1693da64949815872a1391a216ed3eb293d49638652b557fa5c0"
  },
  "kernelspec": {
   "display_name": "Python 3.9.1 64-bit (system)",
   "language": "python",
   "name": "python3"
  },
  "language_info": {
   "codemirror_mode": {
    "name": "ipython",
    "version": 3
   },
   "file_extension": ".py",
   "mimetype": "text/x-python",
   "name": "python",
   "nbconvert_exporter": "python",
   "pygments_lexer": "ipython3",
   "version": "3.9.1"
  },
  "orig_nbformat": 4
 },
 "nbformat": 4,
 "nbformat_minor": 2
}
