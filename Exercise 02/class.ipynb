{
 "cells": [
  {
   "cell_type": "code",
   "execution_count": 3,
   "metadata": {},
   "outputs": [],
   "source": [
    "import numpy as np\n",
    "import cv2 as cv\n",
    "\n",
    "f = cv.imread(r'images/spider.png', cv.IMREAD_GRAYSCALE)\n",
    "assert f is not None\n",
    "\n",
    "t = np.arange(255,-1,-1, dtype = np.uint8)\n",
    "g = cv.LUT(f, t)\n",
    "cv.LUT()\n",
    "\n",
    "cv.imshow('Image', f)\n",
    "cv.waitKey(0)\n",
    "\n",
    "cv.imshow('Image', g)\n",
    "cv.waitKey(0)\n",
    "\n",
    "cv.destroyAllWindows()"
   ]
  },
  {
   "cell_type": "code",
   "execution_count": 4,
   "metadata": {},
   "outputs": [
    {
     "data": {
      "text/plain": [
       "array([[194, 192, 193, ..., 115, 111, 109],\n",
       "       [197, 197, 197, ..., 102,  99,  98],\n",
       "       [197, 197, 197, ...,  82,  80,  78],\n",
       "       ...,\n",
       "       [ 66,  66,  66, ...,  50,  50,  50],\n",
       "       [ 61,  61,  61, ...,  46,  46,  46],\n",
       "       [ 59,  56,  56, ...,  43,  43,  43]], dtype=uint8)"
      ]
     },
     "execution_count": 4,
     "metadata": {},
     "output_type": "execute_result"
    }
   ],
   "source": []
  },
  {
   "cell_type": "code",
   "execution_count": 5,
   "metadata": {},
   "outputs": [
    {
     "data": {
      "text/plain": [
       "array([[ 93,  93,  92, ...,  50,  50,  50],\n",
       "       [ 93,  96,  95, ...,  46,  46,  46],\n",
       "       [ 93,  95,  93, ...,  46,  46,  46],\n",
       "       ...,\n",
       "       [197, 197, 197, ...,  82,  80,  78],\n",
       "       [197, 197, 197, ..., 102,  99,  98],\n",
       "       [194, 192, 193, ..., 115, 111, 109]], dtype=uint8)"
      ]
     },
     "execution_count": 5,
     "metadata": {},
     "output_type": "execute_result"
    }
   ],
   "source": [
    "f[t]"
   ]
  },
  {
   "cell_type": "code",
   "execution_count": 6,
   "metadata": {},
   "outputs": [
    {
     "data": {
      "text/plain": [
       "array([[ 61,  63,  62, ..., 140, 144, 146],\n",
       "       [ 58,  58,  58, ..., 153, 156, 157],\n",
       "       [ 58,  58,  58, ..., 173, 175, 177],\n",
       "       ...,\n",
       "       [189, 189, 189, ..., 205, 205, 205],\n",
       "       [194, 194, 194, ..., 209, 209, 209],\n",
       "       [196, 199, 199, ..., 212, 212, 212]], dtype=uint8)"
      ]
     },
     "execution_count": 6,
     "metadata": {},
     "output_type": "execute_result"
    }
   ],
   "source": [
    "\n",
    "g"
   ]
  },
  {
   "cell_type": "code",
   "execution_count": 9,
   "metadata": {},
   "outputs": [
    {
     "data": {
      "image/png": "[encoded data removed]",
      "text/plain": [
       "<Figure size 432x288 with 1 Axes>"
      ]
     },
     "metadata": {
      "needs_background": "light"
     },
     "output_type": "display_data"
    }
   ],
   "source": [
    "import numpy as np\n",
    "import cv2 as cv\n",
    "import matplotlib.pyplot as plt\n",
    "%matplotlib inline\n",
    "\n",
    "f = cv.imread(r'images/spider.png', cv.IMREAD_GRAYSCALE)\n",
    "assert f is not None\n",
    "\n",
    "gamma = 0.5\n",
    "t = np.array([(p/255)**gamma*255 for p in range(0,256)]).astype(np.uint8)\n",
    "g = cv.LUT(f, t)\n",
    "\n",
    "fig, ax = plt.subplots()\n",
    "ax.plot(t)\n",
    "\n",
    "cv.imshow('Image', f)\n",
    "cv.waitKey(0)\n",
    "\n",
    "cv.imshow('Image', g)\n",
    "cv.waitKey(0)\n",
    "\n",
    "cv.destroyAllWindows()"
   ]
  },
  {
   "cell_type": "code",
   "execution_count": null,
   "metadata": {},
   "outputs": [],
   "source": []
  }
 ],
 "metadata": {
  "interpreter": {
   "hash": "cba790f90a5c1693da64949815872a1391a216ed3eb293d49638652b557fa5c0"
  },
  "kernelspec": {
   "display_name": "Python 3.9.1 64-bit (system)",
   "language": "python",
   "name": "python3"
  },
  "language_info": {
   "codemirror_mode": {
    "name": "ipython",
    "version": 3
   },
   "file_extension": ".py",
   "mimetype": "text/x-python",
   "name": "python",
   "nbconvert_exporter": "python",
   "pygments_lexer": "ipython3",
   "version": "3.9.1"
  },
  "orig_nbformat": 4
 },
 "nbformat": 4,
 "nbformat_minor": 2
}
